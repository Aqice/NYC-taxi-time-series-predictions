{
 "cells": [
  {
   "cell_type": "markdown",
   "metadata": {},
   "source": [
    "# Preprocessing data and extracting new features"
   ]
  },
  {
   "cell_type": "code",
   "execution_count": null,
   "metadata": {},
   "outputs": [],
   "source": [
    "import pandas as pd\n",
    "import numpy as np\n",
    "from scipy import stats"
   ]
  },
  {
   "cell_type": "code",
   "execution_count": 65,
   "metadata": {},
   "outputs": [],
   "source": [
    "number = 6\n",
    "df = pd.read_csv('yellow_tripdata_2016-0{}.csv'.format(number), header=0)"
   ]
  },
  {
   "cell_type": "markdown",
   "metadata": {},
   "source": [
    "### Drop all the odd cells and normilize time"
   ]
  },
  {
   "cell_type": "code",
   "execution_count": 66,
   "metadata": {},
   "outputs": [],
   "source": [
    "df = df[df['tpep_dropoff_datetime'] != df['tpep_pickup_datetime']]\n",
    "df = df[df['passenger_count'] != 0]\n",
    "df = df[df['trip_distance'] != 0]\n",
    "df = df[df['pickup_longitude'] >= -74.25559]\n",
    "df = df[df['pickup_longitude'] <= -73.70001]\n",
    "df = df[df['pickup_latitude'] >= 40.49612]\n",
    "df = df[df['pickup_latitude'] <= 40.91553]\n",
    "df['tpep_pickup_datetime'] =  pd.to_datetime(df['tpep_pickup_datetime'], format='%Y%m%d %H:%M:%S.%f')\n",
    "df['tpep_pickup_datetime'] = df['tpep_pickup_datetime'].map(lambda x: x.replace(second=0))\n",
    "df['tpep_pickup_datetime'] = df['tpep_pickup_datetime'].map(lambda x: x.replace(minute=0))\n",
    "df['tpep_dropoff_datetime'] =  pd.to_datetime(df['tpep_dropoff_datetime'], format='%Y%m%d %H:%M:%S.%f')\n",
    "df['tpep_dropoff_datetime'] = df['tpep_dropoff_datetime'].map(lambda x: x.replace(second=0))\n",
    "df['tpep_dropoff_datetime'] = df['tpep_dropoff_datetime'].map(lambda x: x.replace(minute=0))"
   ]
  },
  {
   "cell_type": "code",
   "execution_count": 67,
   "metadata": {},
   "outputs": [],
   "source": [
    "dates = pd.DatetimeIndex(df['tpep_pickup_datetime'].values)\n",
    "min_date = min(dates)"
   ]
  },
  {
   "cell_type": "markdown",
   "metadata": {},
   "source": [
    "### Trips to cell feature"
   ]
  },
  {
   "cell_type": "code",
   "execution_count": 68,
   "metadata": {},
   "outputs": [
    {
     "name": "stderr",
     "output_type": "stream",
     "text": [
      "C:\\Users\\ptimo\\Anaconda3\\lib\\site-packages\\scipy\\stats\\_binned_statistic.py:607: FutureWarning: Using a non-tuple sequence for multidimensional indexing is deprecated; use `arr[tuple(seq)]` instead of `arr[seq]`. In the future this will be interpreted as an array index, `arr[np.array(seq)]`, which will result either in an error or a different result.\n",
      "  result = result[core]\n"
     ]
    }
   ],
   "source": [
    "trips_to_cell = pd.read_csv('regions.csv', sep=';', header=0)\n",
    "trips_to_cell.drop(['west', 'east', 'north', 'south'], axis=1, inplace=True)\n",
    "for i in range(max(dates.day)*24):\n",
    "    cur_datetime = pd.to_datetime(min_date) + np.timedelta64(i, 'h')\n",
    "    df_cut_datetime = df[df['tpep_pickup_datetime'] == cur_datetime]\n",
    "    ret = stats.binned_statistic_2d(df_cut_datetime['dropoff_longitude'],  df_cut_datetime['dropoff_latitude'],\n",
    "                      None,  statistic='count',\n",
    "                      bins=[np.linspace(-74.25559, -73.70001, 51) , np.linspace(40.49612, 40.91553, 51)])\n",
    "    trips_to_cell[(str(cur_datetime)[:10] + '(hour: {})'.format(i%24))] = ret.statistic.reshape(2500)\n",
    "trips_to_cell.to_csv('trips_to_region_{}.csv'.format(number), index=False)"
   ]
  },
  {
   "cell_type": "markdown",
   "metadata": {},
   "source": [
    "## Amount of calls in the neighbours' cells"
   ]
  },
  {
   "cell_type": "markdown",
   "metadata": {},
   "source": [
    "Let's use next implimentation to count mean value of calls in the closest cells for i-th cell\n",
    "\n",
    "<img src=\"cell_implimentation.PNG\">"
   ]
  },
  {
   "cell_type": "markdown",
   "metadata": {},
   "source": [
    "Let's count calls from each cell (as we did before)"
   ]
  },
  {
   "cell_type": "code",
   "execution_count": 69,
   "metadata": {},
   "outputs": [
    {
     "name": "stderr",
     "output_type": "stream",
     "text": [
      "C:\\Users\\ptimo\\Anaconda3\\lib\\site-packages\\scipy\\stats\\_binned_statistic.py:607: FutureWarning: Using a non-tuple sequence for multidimensional indexing is deprecated; use `arr[tuple(seq)]` instead of `arr[seq]`. In the future this will be interpreted as an array index, `arr[np.array(seq)]`, which will result either in an error or a different result.\n",
      "  result = result[core]\n"
     ]
    },
    {
     "name": "stdout",
     "output_type": "stream",
     "text": [
      "Wall time: 43.4 s\n"
     ]
    }
   ],
   "source": [
    "%%time\n",
    "trips_by_regions = pd.read_csv('regions.csv', sep=';', header=0)\n",
    "trips_by_regions.drop(['west', 'east', 'north', 'south'], axis=1, inplace=True)\n",
    "for i in range(max(dates.day)*24):\n",
    "    cur_datetime = pd.to_datetime(min_date) + np.timedelta64(i, 'h')\n",
    "    df_cut_datetime = df[df['tpep_pickup_datetime'] == cur_datetime]\n",
    "    ret = stats.binned_statistic_2d( df_cut_datetime['pickup_longitude'],  df_cut_datetime['pickup_latitude'],\n",
    "                      None,  statistic='count',\n",
    "                      bins=[np.linspace(-74.25559, -73.70001, 51) , np.linspace(40.49612, 40.91553, 51)])\n",
    "    trips_by_regions[(str(cur_datetime)[:10] + '(hour: {})'.format(i%24))] = ret.statistic.reshape(2500)\n",
    "trips_by_regions.to_csv('trips_in_region_{}.csv'.format(number), index=False)"
   ]
  },
  {
   "cell_type": "code",
   "execution_count": 63,
   "metadata": {},
   "outputs": [],
   "source": [
    "active_cells = (1076, 1126, 1127, 1128, 1129, 1132, 1180, 1181, 1230, 1231, 1232, 1233, 1234, 1282,\n",
    " 1283, 1339, 1383, 1431, 1684, 1734, 2069, 2119, 1075, 1125, 1221, 1227, 1272, 1326, 1331, 1382, 1434, 1441, 1480, 1482, 1483, 1530,\n",
    " 1532, 1533, 1580, 1630, 1733, 1783, 2068, 2118, 2168, 1173, 1174, 1175, 1176, 1183, 1225, 1278, 1388, 1389, 1390, 1436, 1437, 1438, 1439,\n",
    " 1442, 1130, 1131, 1172, 1177, 1178, 1179, 1222, 1223, 1224, 1228, 1229, 1273, 1274, 1279,\n",
    " 1327, 1376, 1377, 1378, 1380, 1426, 1077, 1182, 1184, 1235, 1280, 1281, 1284, 1285, 1286, 1287, 1332, 1333, 1334, 1335,\n",
    " 1336, 1337, 1338, 1384, 1385, 1386, 1387, 1435)"
   ]
  },
  {
   "cell_type": "code",
   "execution_count": 70,
   "metadata": {},
   "outputs": [
    {
     "name": "stdout",
     "output_type": "stream",
     "text": [
      "2016-06-01 00:00:00\n",
      "2016-06-02 00:00:00\n",
      "2016-06-03 00:00:00\n",
      "2016-06-04 00:00:00\n",
      "2016-06-05 00:00:00\n",
      "2016-06-06 00:00:00\n",
      "2016-06-07 00:00:00\n",
      "2016-06-08 00:00:00\n",
      "2016-06-09 00:00:00\n",
      "2016-06-10 00:00:00\n",
      "2016-06-11 00:00:00\n",
      "2016-06-12 00:00:00\n",
      "2016-06-13 00:00:00\n",
      "2016-06-14 00:00:00\n",
      "2016-06-15 00:00:00\n",
      "2016-06-16 00:00:00\n",
      "2016-06-17 00:00:00\n",
      "2016-06-18 00:00:00\n",
      "2016-06-19 00:00:00\n",
      "2016-06-20 00:00:00\n",
      "2016-06-21 00:00:00\n",
      "2016-06-22 00:00:00\n",
      "2016-06-23 00:00:00\n",
      "2016-06-24 00:00:00\n",
      "2016-06-25 00:00:00\n",
      "2016-06-26 00:00:00\n",
      "2016-06-27 00:00:00\n",
      "2016-06-28 00:00:00\n",
      "2016-06-29 00:00:00\n",
      "2016-06-30 00:00:00\n",
      "Wall time: 5min 2s\n"
     ]
    }
   ],
   "source": [
    "%%time\n",
    "trips_by_regions_neighbours = pd.read_csv('regions.csv', sep=';', header=0)\n",
    "trips_by_regions_neighbours = trips_by_regions_neighbours[trips_by_regions_neighbours['region'].isin(active_cells)]\n",
    "trips_by_regions_neighbours.drop(['west', 'east', 'north', 'south'], axis=1, inplace=True)\n",
    "row = 50\n",
    "for i in range(max(dates.day)*24):\n",
    "    region_mean = []\n",
    "    cur_datetime = pd.to_datetime(min_date) + np.timedelta64(i, 'h')\n",
    "    df_cut_datetime = df[df['tpep_pickup_datetime'] == cur_datetime]\n",
    "    cur_time_column = str(cur_datetime)[:10] + '(hour: {})'.format(i%24)\n",
    "    for j in active_cells:\n",
    "        neighbours_cells = []\n",
    "        neighbours_cells.append(trips_by_regions[trips_by_regions['region']==j-row-1][cur_time_column].values)\n",
    "        neighbours_cells.append(trips_by_regions[trips_by_regions['region']==j-row][cur_time_column].values)\n",
    "        neighbours_cells.append(trips_by_regions[trips_by_regions['region']==j-1][cur_time_column].values)\n",
    "        neighbours_cells.append(trips_by_regions[trips_by_regions['region']==j+1][cur_time_column].values)\n",
    "        neighbours_cells.append(trips_by_regions[trips_by_regions['region']==j+row-1][cur_time_column].values)\n",
    "        neighbours_cells.append(trips_by_regions[trips_by_regions['region']==j+row][cur_time_column].values)\n",
    "        neighbours_cells.append(trips_by_regions[trips_by_regions['region']==j+row+1][cur_time_column].values)\n",
    "        region_mean.append(np.mean(neighbours_cells))\n",
    "    if i%24==0:\n",
    "        print(cur_datetime)\n",
    "    trips_by_regions_neighbours[cur_time_column] = region_mean\n",
    "trips_by_regions_neighbours.to_csv('trips_by_regions_neighbours_{}.csv'.format(number), index=False)"
   ]
  }
 ],
 "metadata": {
  "kernelspec": {
   "display_name": "Python 3",
   "language": "python",
   "name": "python3"
  },
  "language_info": {
   "codemirror_mode": {
    "name": "ipython",
    "version": 3
   },
   "file_extension": ".py",
   "mimetype": "text/x-python",
   "name": "python",
   "nbconvert_exporter": "python",
   "pygments_lexer": "ipython3",
   "version": "3.6.6"
  }
 },
 "nbformat": 4,
 "nbformat_minor": 2
}
