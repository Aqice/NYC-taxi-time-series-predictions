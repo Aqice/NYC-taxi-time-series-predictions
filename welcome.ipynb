{
 "cells": [
  {
   "cell_type": "markdown",
   "metadata": {},
   "source": [
    "# Predicting amount of taxi calls in the NYC for June (2016) task"
   ]
  },
  {
   "cell_type": "markdown",
   "metadata": {},
   "source": [
    "<img src=\"taxi.jpg\">"
   ]
  },
  {
   "cell_type": "markdown",
   "metadata": {},
   "source": [
    "## Task"
   ]
  },
  {
   "cell_type": "markdown",
   "metadata": {},
   "source": [
    "The main purpose of this project is to build and fit model for predicting amount of taxi calls per hour in NYC if we split all the area of NYC on 2500 cells (50x50 area). We need to build predictions for every cell."
   ]
  },
  {
   "cell_type": "markdown",
   "metadata": {},
   "source": [
    "As we'll see further, we can use only cells with mean amount of calls per hour > 5 (102 out of 2500)"
   ]
  },
  {
   "cell_type": "markdown",
   "metadata": {},
   "source": [
    "In this project we'll compare ARIMA model and boosting regression algorithms for predicting target values, also we'll visualize the results both for separate cells and for all the map in general (look at results and conclusions folder)\n",
    "\n",
    "Because of time and computational power limitations, we'll use only data from January to May (2016) for a final predictions (June 2016)\n",
    "\n",
    "Some folders contain .html files to make faster to look at code and results"
   ]
  },
  {
   "cell_type": "markdown",
   "metadata": {},
   "source": [
    "The idea for the project is taken from Coursera Data Science specialization by Yandex and MIPT (https://www.coursera.org/specializations/machine-learning-data-analysis)"
   ]
  },
  {
   "cell_type": "markdown",
   "metadata": {},
   "source": [
    "Data sources: NYC government data (http://www.nyc.gov/html/tlc/html/about/trip_record_data.shtml)"
   ]
  },
  {
   "cell_type": "markdown",
   "metadata": {},
   "source": [
    "## Project structure"
   ]
  },
  {
   "cell_type": "markdown",
   "metadata": {},
   "source": [
    "- data loading and visualization (part 1) \n",
    "\n",
    "first look-up on data and visualization it on map. We'll also find out cells that we need to build predictions for (102 in total)\n",
    "\n",
    "\n",
    "- predicting for one cell (part 2) \n",
    "\n",
    "we'll take only 1 separate cell (with Empire State Building) and build predictions only for that cell using standard arima algorithm\n",
    "\n",
    "\n",
    "- splitting data on clusters (part 3) \n",
    "\n",
    "it's very hard to tune arima model for every cell, so we'll split all our cells on clusters using k-means algorithm to make it easier to predict multiple time series\n",
    "\n",
    "- arima model's regression (part 4)\n",
    "\n",
    "in this part we'll tune arima's parameters for a mean time series for every cluster taken from the previous part and we'll build our first general predictions for June data\n",
    "\n",
    "- catboost regression (part 5)\n",
    "\n",
    "in this part we'll use regressive formulation of the problem and build boosting model (using catboost framework from Yandex), also we'll generate new features for our model and make general predictions again\n",
    "\n",
    "- results and conclusions (part 6)\n",
    "\n",
    "here we'll take all the data from catboost's June predictions and visualize the results and make some conclusions and analyze what could be done better and what else could be done for future development of the project"
   ]
  },
  {
   "cell_type": "markdown",
   "metadata": {},
   "source": [
    "## To Do"
   ]
  },
  {
   "cell_type": "markdown",
   "metadata": {},
   "source": [
    "- make .pdf file with all the general pipeline and graphics visualization\n",
    "\n",
    "- make online platform for results visualization (functions of 6th part's notebook)"
   ]
  }
 ],
 "metadata": {
  "kernelspec": {
   "display_name": "Python 3",
   "language": "python",
   "name": "python3"
  },
  "language_info": {
   "codemirror_mode": {
    "name": "ipython",
    "version": 3
   },
   "file_extension": ".py",
   "mimetype": "text/x-python",
   "name": "python",
   "nbconvert_exporter": "python",
   "pygments_lexer": "ipython3",
   "version": "3.6.6"
  }
 },
 "nbformat": 4,
 "nbformat_minor": 2
}
